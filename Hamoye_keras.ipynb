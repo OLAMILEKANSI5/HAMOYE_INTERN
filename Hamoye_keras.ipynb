{
  "nbformat": 4,
  "nbformat_minor": 0,
  "metadata": {
    "colab": {
      "name": "Hamoye keras.ipynb",
      "provenance": []
    },
    "kernelspec": {
      "name": "python3",
      "display_name": "Python 3"
    }
  },
  "cells": [
    {
      "cell_type": "code",
      "metadata": {
        "id": "dDwIL1GF2Whi",
        "colab_type": "code",
        "colab": {}
      },
      "source": [
        "# Importing needed libraries\n",
        "\n",
        "import numpy as np\n",
        "import matplotlib.pyplot as plt\n",
        "import tensorflow as tf\n",
        "from tensorflow import keras"
      ],
      "execution_count": 2,
      "outputs": []
    },
    {
      "cell_type": "code",
      "metadata": {
        "id": "Ncw9jqzCVMot",
        "colab_type": "code",
        "colab": {
          "base_uri": "https://localhost:8080/",
          "height": 51
        },
        "outputId": "ffe39daf-0c73-49d5-cab2-5dd0db07d688"
      },
      "source": [
        "# Mnist comes with Keras by default so simply load the test and train files using the codes below\n",
        "\n",
        "mnist= keras.datasets.mnist\n",
        "(train_images, train_labels), (test_images, test_labels)=mnist.load_data()"
      ],
      "execution_count": 3,
      "outputs": [
        {
          "output_type": "stream",
          "text": [
            "Downloading data from https://storage.googleapis.com/tensorflow/tf-keras-datasets/mnist.npz\n",
            "11493376/11490434 [==============================] - 0s 0us/step\n"
          ],
          "name": "stdout"
        }
      ]
    },
    {
      "cell_type": "code",
      "metadata": {
        "id": "RnhCgSfKVhzm",
        "colab_type": "code",
        "colab": {
          "base_uri": "https://localhost:8080/",
          "height": 51
        },
        "outputId": "cc1e1bae-d993-4d6c-86e2-69a23bcbaa63"
      },
      "source": [
        "# Let's have a look at the shape of the datasets\n",
        "\n",
        "print(\"Training data: {}, {}\".format(train_images.shape, train_labels.shape))\n",
        "# prints Training data: (60000, 28, 28), (60000,)\n",
        "print(\"Test data: {}, {}\".format(test_images.shape, test_labels.shape))\n",
        "# prints Test data: (10000, 28, 28), (10000,)"
      ],
      "execution_count": 4,
      "outputs": [
        {
          "output_type": "stream",
          "text": [
            "Training data: (60000, 28, 28), (60000,)\n",
            "Test data: (10000, 28, 28), (10000,)\n"
          ],
          "name": "stdout"
        }
      ]
    },
    {
      "cell_type": "code",
      "metadata": {
        "id": "TFGzDr9MZkXn",
        "colab_type": "code",
        "colab": {
          "base_uri": "https://localhost:8080/",
          "height": 34
        },
        "outputId": "6a14752c-78df-4927-a8ee-5af13273de0f"
      },
      "source": [
        "\n",
        "class_labels = np.unique(train_labels)\n",
        "print(\"There are {} classes in the dataset. They are: {}\".format(len(class_labels), class_labels))"
      ],
      "execution_count": 5,
      "outputs": [
        {
          "output_type": "stream",
          "text": [
            "There are 10 classes in the dataset. They are: [0 1 2 3 4 5 6 7 8 9]\n"
          ],
          "name": "stdout"
        }
      ]
    },
    {
      "cell_type": "code",
      "metadata": {
        "id": "tks2aW2aZtZ7",
        "colab_type": "code",
        "colab": {
          "base_uri": "https://localhost:8080/",
          "height": 212
        },
        "outputId": "a6c12873-7859-4da3-d165-1ff6f2ae3d80"
      },
      "source": [
        "# Let's plot and look at a few images \n",
        "\n",
        "plt.figure(figsize=(8, 5))\n",
        "\n",
        "plt.subplot(1,3,1)\n",
        "plt.imshow(train_images[0])\n",
        "plt.title(\"Label: {}\".format(train_labels[0]))"
      ],
      "execution_count": 6,
      "outputs": [
        {
          "output_type": "execute_result",
          "data": {
            "text/plain": [
              "Text(0.5, 1.0, 'Label: 5')"
            ]
          },
          "metadata": {
            "tags": []
          },
          "execution_count": 6
        },
        {
          "output_type": "display_data",
          "data": {
            "image/png": "[encoded data removed]",
            "text/plain": [
              "<Figure size 576x360 with 1 Axes>"
            ]
          },
          "metadata": {
            "tags": [],
            "needs_background": "light"
          }
        }
      ]
    },
    {
      "cell_type": "code",
      "metadata": {
        "id": "3umwrVq3Z0iA",
        "colab_type": "code",
        "colab": {
          "base_uri": "https://localhost:8080/",
          "height": 179
        },
        "outputId": "fdef1610-0678-4c7a-d070-03f19e16ace6"
      },
      "source": [
        "\n",
        "plt.subplot(1,3,2)\n",
        "plt.imshow(train_images[2500])\n",
        "plt.title(\"Label: {}\".format(train_labels[2500]))"
      ],
      "execution_count": 7,
      "outputs": [
        {
          "output_type": "execute_result",
          "data": {
            "text/plain": [
              "Text(0.5, 1.0, 'Label: 0')"
            ]
          },
          "metadata": {
            "tags": []
          },
          "execution_count": 7
        },
        {
          "output_type": "display_data",
          "data": {
            "image/png": "[encoded data removed]",
            "text/plain": [
              "<Figure size 432x288 with 1 Axes>"
            ]
          },
          "metadata": {
            "tags": [],
            "needs_background": "light"
          }
        }
      ]
    },
    {
      "cell_type": "code",
      "metadata": {
        "id": "GqUclhviZ_RK",
        "colab_type": "code",
        "colab": {
          "base_uri": "https://localhost:8080/",
          "height": 149
        },
        "outputId": "e37a943e-6a5d-4bec-92ea-eaf30f0c0dfc"
      },
      "source": [
        "plt.subplot(1,3,3)\n",
        "plt.imshow(test_images[12])\n",
        "plt.show()"
      ],
      "execution_count": 8,
      "outputs": [
        {
          "output_type": "display_data",
          "data": {
            "image/png": "[encoded data removed]",
            "text/plain": [
              "<Figure size 432x288 with 1 Axes>"
            ]
          },
          "metadata": {
            "tags": [],
            "needs_background": "light"
          }
        }
      ]
    },
    {
      "cell_type": "code",
      "metadata": {
        "id": "K1o4lr6daEYw",
        "colab_type": "code",
        "colab": {}
      },
      "source": [
        "# As usual, we scale our dataset to range between 0 and 1. In this dataset, the pixel values range from 0 to 255.\n",
        "# Dividing the data by 255 scales to the required range. This normalization is done to help with the training.\n",
        "\n",
        "train_images = train_images / 255.0\n",
        "test_images = test_images / 255.0"
      ],
      "execution_count": 9,
      "outputs": []
    },
    {
      "cell_type": "code",
      "metadata": {
        "id": "DGDAdUJ8aWAV",
        "colab_type": "code",
        "colab": {
          "base_uri": "https://localhost:8080/",
          "height": 85
        },
        "outputId": "2a5ecf58-ab46-44e7-d455-60740e97642e"
      },
      "source": [
        "x_train = train_images[0:50000]\n",
        "x_val = train_images[50000:]\n",
        "y_train = train_labels[0:50000]\n",
        "y_val = train_labels[50000:]\n",
        "\n",
        "print(\"x_train: {}\".format(x_train.shape)) # prints x_train: (50000, 28, 28)\n",
        "print(\"x_val: {}\".format(x_val.shape)) # prints x_val: (10000, 28, 28)\n",
        "print(\"y_train: {}\".format(y_train.shape)) #prints y_train: (50000,)\n",
        "print(\"y_val: {}\".format(y_val.shape)) #prints y_val: (10000,)"
      ],
      "execution_count": 10,
      "outputs": [
        {
          "output_type": "stream",
          "text": [
            "x_train: (50000, 28, 28)\n",
            "x_val: (10000, 28, 28)\n",
            "y_train: (50000,)\n",
            "y_val: (10000,)\n"
          ],
          "name": "stdout"
        }
      ]
    },
    {
      "cell_type": "code",
      "metadata": {
        "id": "odIVY9NlafZP",
        "colab_type": "code",
        "colab": {}
      },
      "source": [
        "# one-hot encoding using keras' numpy-related utilities\n",
        "\n",
        "from tensorflow.keras.utils import to_categorical\n",
        "no_labels = 10\n",
        "y_train = to_categorical(y_train, no_labels)\n",
        "y_val = to_categorical(y_val, no_labels)\n",
        "y_test = to_categorical(test_labels, no_labels)"
      ],
      "execution_count": 11,
      "outputs": []
    },
    {
      "cell_type": "code",
      "metadata": {
        "id": "9hDJMibYamDN",
        "colab_type": "code",
        "colab": {
          "base_uri": "https://localhost:8080/",
          "height": 68
        },
        "outputId": "f60af602-174d-4f6f-9860-edf16fbafdda"
      },
      "source": [
        "# Flattening the images from the 2D 28x28 pixels to 1D 784 pixels\n",
        "\n",
        "new_dimension = np.prod(train_images.shape[1:])\n",
        "x_train = x_train.reshape(x_train.shape[0], new_dimension)\n",
        "x_val = x_val.reshape(x_val.shape[0], new_dimension)\n",
        "test_images = test_images.reshape(test_images.shape[0], new_dimension)\n",
        "\n",
        "print(\"x_train: {}\".format(x_train.shape)) #prints  x_train: (50000, 784)\n",
        "print(\"x_val: {}\".format(x_val.shape)) #prints x_val: (10000, 784)\n",
        "print(\"test_images: {}\".format(test_images.shape)) #prints test_images: (10000, 784)"
      ],
      "execution_count": 12,
      "outputs": [
        {
          "output_type": "stream",
          "text": [
            "x_train: (50000, 784)\n",
            "x_val: (10000, 784)\n",
            "test_images: (10000, 784)\n"
          ],
          "name": "stdout"
        }
      ]
    },
    {
      "cell_type": "code",
      "metadata": {
        "id": "1KlQtUJxar_I",
        "colab_type": "code",
        "colab": {
          "base_uri": "https://localhost:8080/",
          "height": 88
        },
        "outputId": "dbeabd60-f985-4971-d182-b9fbe1edbb5b"
      },
      "source": [
        "# inputs\n",
        "#placeholders are not enabled in tf 2\n",
        "import tensorflow.compat.v1 as tf\n",
        "tf.disable_v2_behavior()\n",
        "X = tf.placeholder(tf.float32, [None, new_dimension])\n",
        "Y = tf.placeholder(tf.float32, [None, no_labels])"
      ],
      "execution_count": 13,
      "outputs": [
        {
          "output_type": "stream",
          "text": [
            "WARNING:tensorflow:From /usr/local/lib/python3.6/dist-packages/tensorflow/python/compat/v2_compat.py:96: disable_resource_variables (from tensorflow.python.ops.variable_scope) is deprecated and will be removed in a future version.\n",
            "Instructions for updating:\n",
            "non-resource variables are not supported in the long term\n"
          ],
          "name": "stdout"
        }
      ]
    },
    {
      "cell_type": "code",
      "metadata": {
        "id": "UKQDQfzCawoA",
        "colab_type": "code",
        "colab": {}
      },
      "source": [
        "# create model architecture\n",
        "def multilayer_perceptron(x, no_classes, first_layer_neurons=256, second_layer_neurons=128):\n",
        "  # first layer\n",
        "  first_weight = tf.Variable(tf.random_uniform([new_dimension, first_layer_neurons]))\n",
        "  first_bias = tf.Variable(tf.zeros([first_layer_neurons]))\n",
        "  first_layer_output = tf.nn.relu(tf.add(tf.matmul(x, first_weight), first_bias))\n",
        "  # second layer\n",
        "  second_weight = tf.Variable(tf.random_uniform([first_layer_neurons,second_layer_neurons]))\n",
        "  second_bias = tf.Variable(tf.zeros([second_layer_neurons]))\n",
        "  second_layer_output = tf.nn.relu(tf.add(tf.matmul(first_layer_output, second_weight), second_bias))\n",
        "  # output layer\n",
        "  final_weight = tf.Variable(tf.random_uniform([second_layer_neurons, no_classes]))\n",
        "  final_bias = tf.Variable(tf.zeros([no_classes]))\n",
        "  logits = tf.add(tf.matmul(second_layer_output, final_weight), final_bias)\n",
        "\n",
        "  return logits"
      ],
      "execution_count": 16,
      "outputs": []
    },
    {
      "cell_type": "code",
      "metadata": {
        "id": "WV9WKX--a4eq",
        "colab_type": "code",
        "colab": {}
      },
      "source": [
        "logits = multilayer_perceptron(X, no_labels)\n",
        "learning_rate = 0.01\n",
        "#we define the loss and optimiser for the network\n",
        "loss_op = tf.reduce_mean(tf.nn.softmax_cross_entropy_with_logits(logits=logits, labels=Y))\n",
        "optimiser = tf.train.AdamOptimizer(learning_rate=learning_rate)\n",
        "train_op = optimiser.minimize(loss_op)"
      ],
      "execution_count": 17,
      "outputs": []
    },
    {
      "cell_type": "code",
      "metadata": {
        "id": "aWacuNJ-a9wN",
        "colab_type": "code",
        "colab": {
          "base_uri": "https://localhost:8080/",
          "height": 374
        },
        "outputId": "fadc0b3b-bbac-4555-bbd7-1ff7df0f5d6d"
      },
      "source": [
        "\n",
        "#initialise the variables\n",
        "init = tf.global_variables_initializer()\n",
        "\n",
        "epochs = 20\n",
        "batch_size = 1000\n",
        "iteration = len(x_train) // batch_size\n",
        "#train model\n",
        "with tf.Session() as session:\n",
        "  session.run(init)\n",
        "  for epoch in range(epochs):\n",
        "    average_cost = 0\n",
        "    start, end = 0, batch_size\n",
        "    for i in range(iteration):\n",
        "      batch_x, batch_y = x_train[start: end], y_train[start: end]\n",
        "      _, loss = session.run([train_op, loss_op], feed_dict={X: batch_x, Y: batch_y})\n",
        "      start += batch_size\n",
        "      end += batch_size \n",
        "      #average loss\n",
        "      average_cost += loss/iteration\n",
        "    print(\"Epoch========{}\".format(epoch))\n",
        "    #evaluate model\n",
        "  prediction = tf.nn.softmax(logits)\n",
        "  ground_truth = tf.equal(tf.argmax(prediction, 1), tf.argmax(Y, 1))\n",
        "  accuracy = tf.reduce_mean(tf.cast(ground_truth, \"float\"))\n",
        "  print(\"Accuracy: {}\".format(accuracy.eval({X: test_images, Y: y_test})))"
      ],
      "execution_count": 18,
      "outputs": [
        {
          "output_type": "stream",
          "text": [
            "Epoch========0\n",
            "Epoch========1\n",
            "Epoch========2\n",
            "Epoch========3\n",
            "Epoch========4\n",
            "Epoch========5\n",
            "Epoch========6\n",
            "Epoch========7\n",
            "Epoch========8\n",
            "Epoch========9\n",
            "Epoch========10\n",
            "Epoch========11\n",
            "Epoch========12\n",
            "Epoch========13\n",
            "Epoch========14\n",
            "Epoch========15\n",
            "Epoch========16\n",
            "Epoch========17\n",
            "Epoch========18\n",
            "Epoch========19\n",
            "Accuracy: 0.9147999882698059\n"
          ],
          "name": "stdout"
        }
      ]
    },
    {
      "cell_type": "code",
      "metadata": {
        "id": "L_k2JN9ecA6F",
        "colab_type": "code",
        "colab": {}
      },
      "source": [
        "#Building a Sequential Feed Forward Network in Keras\n",
        "\n",
        "from tensorflow.keras.layers import Dense\n",
        "from tensorflow.keras.models import Sequential\n",
        "#Build the model object\n",
        "model = Sequential()\n",
        "# Build the input and the hidden layers\n",
        "model.add(Dense(256, activation='relu', input_shape=(new_dimension,)))\n",
        "model.add(Dense(128, activation='relu'))\n",
        "# Build the output layer\n",
        "model.add(Dense(no_labels, activation='softmax'))"
      ],
      "execution_count": 20,
      "outputs": []
    },
    {
      "cell_type": "code",
      "metadata": {
        "id": "uN7Iu3kRcLBB",
        "colab_type": "code",
        "colab": {}
      },
      "source": [
        "model.compile(optimizer='adam', loss=tf.keras.losses.categorical_crossentropy, \n",
        "              metrics=['accuracy'])"
      ],
      "execution_count": 21,
      "outputs": []
    },
    {
      "cell_type": "code",
      "metadata": {
        "id": "ka4SQOgpdYn2",
        "colab_type": "code",
        "colab": {
          "base_uri": "https://localhost:8080/",
          "height": 819
        },
        "outputId": "606cc6db-38c7-4ba5-90d1-b7021c367896"
      },
      "source": [
        "history = model.fit(x_train, y_train, validation_data=(x_val, y_val), epochs=20, batch_size=1000)\n",
        "\n",
        "test_loss, test_accuracy = model.evaluate(test_images, y_test)\n",
        "print('Test loss: {}'.format(test_loss))\n",
        "print('Test accuracy: {}'.format(test_accuracy))"
      ],
      "execution_count": 22,
      "outputs": [
        {
          "output_type": "stream",
          "text": [
            "Train on 50000 samples, validate on 10000 samples\n",
            "Epoch 1/20\n",
            "48000/50000 [===========================>..] - ETA: 0s - loss: 0.6958 - acc: 0.8154WARNING:tensorflow:From /usr/local/lib/python3.6/dist-packages/tensorflow/python/keras/engine/training_v1.py:2048: Model.state_updates (from tensorflow.python.keras.engine.training) is deprecated and will be removed in a future version.\n",
            "Instructions for updating:\n",
            "This property should not be used in TensorFlow 2.0, as updates are applied automatically.\n",
            "50000/50000 [==============================] - 1s 28us/sample - loss: 0.6795 - acc: 0.8196 - val_loss: 0.2543 - val_acc: 0.9276\n",
            "Epoch 2/20\n",
            "50000/50000 [==============================] - 1s 28us/sample - loss: 0.2315 - acc: 0.9348 - val_loss: 0.1835 - val_acc: 0.9501\n",
            "Epoch 3/20\n",
            "50000/50000 [==============================] - 1s 28us/sample - loss: 0.1709 - acc: 0.9514 - val_loss: 0.1508 - val_acc: 0.9587\n",
            "Epoch 4/20\n",
            "50000/50000 [==============================] - 1s 28us/sample - loss: 0.1336 - acc: 0.9626 - val_loss: 0.1272 - val_acc: 0.9637\n",
            "Epoch 5/20\n",
            "50000/50000 [==============================] - 1s 28us/sample - loss: 0.1094 - acc: 0.9689 - val_loss: 0.1176 - val_acc: 0.9670\n",
            "Epoch 6/20\n",
            "50000/50000 [==============================] - 1s 28us/sample - loss: 0.0887 - acc: 0.9747 - val_loss: 0.1060 - val_acc: 0.9688\n",
            "Epoch 7/20\n",
            "50000/50000 [==============================] - 1s 27us/sample - loss: 0.0732 - acc: 0.9799 - val_loss: 0.0960 - val_acc: 0.9720\n",
            "Epoch 8/20\n",
            "50000/50000 [==============================] - 1s 28us/sample - loss: 0.0630 - acc: 0.9821 - val_loss: 0.0865 - val_acc: 0.9743\n",
            "Epoch 9/20\n",
            "50000/50000 [==============================] - 1s 27us/sample - loss: 0.0526 - acc: 0.9854 - val_loss: 0.0851 - val_acc: 0.9748\n",
            "Epoch 10/20\n",
            "50000/50000 [==============================] - 1s 28us/sample - loss: 0.0457 - acc: 0.9877 - val_loss: 0.0826 - val_acc: 0.9754\n",
            "Epoch 11/20\n",
            "50000/50000 [==============================] - 1s 27us/sample - loss: 0.0381 - acc: 0.9897 - val_loss: 0.0851 - val_acc: 0.9750\n",
            "Epoch 12/20\n",
            "50000/50000 [==============================] - 1s 28us/sample - loss: 0.0336 - acc: 0.9913 - val_loss: 0.0778 - val_acc: 0.9771\n",
            "Epoch 13/20\n",
            "50000/50000 [==============================] - 1s 27us/sample - loss: 0.0288 - acc: 0.9921 - val_loss: 0.0777 - val_acc: 0.9761\n",
            "Epoch 14/20\n",
            "50000/50000 [==============================] - 1s 27us/sample - loss: 0.0255 - acc: 0.9938 - val_loss: 0.0787 - val_acc: 0.9764\n",
            "Epoch 15/20\n",
            "50000/50000 [==============================] - 1s 28us/sample - loss: 0.0217 - acc: 0.9949 - val_loss: 0.0794 - val_acc: 0.9761\n",
            "Epoch 16/20\n",
            "50000/50000 [==============================] - 1s 27us/sample - loss: 0.0184 - acc: 0.9959 - val_loss: 0.0781 - val_acc: 0.9778\n",
            "Epoch 17/20\n",
            "50000/50000 [==============================] - 1s 28us/sample - loss: 0.0147 - acc: 0.9973 - val_loss: 0.0777 - val_acc: 0.9777\n",
            "Epoch 18/20\n",
            "50000/50000 [==============================] - 1s 28us/sample - loss: 0.0128 - acc: 0.9978 - val_loss: 0.0796 - val_acc: 0.9783\n",
            "Epoch 19/20\n",
            "50000/50000 [==============================] - 1s 28us/sample - loss: 0.0108 - acc: 0.9986 - val_loss: 0.0800 - val_acc: 0.9779\n",
            "Epoch 20/20\n",
            "50000/50000 [==============================] - 1s 28us/sample - loss: 0.0094 - acc: 0.9987 - val_loss: 0.0792 - val_acc: 0.9776\n",
            "Test loss: 0.06892655475103529\n",
            "Test accuracy: 0.9800999760627747\n"
          ],
          "name": "stdout"
        }
      ]
    },
    {
      "cell_type": "code",
      "metadata": {
        "id": "MGjbHGdqdfl0",
        "colab_type": "code",
        "colab": {
          "base_uri": "https://localhost:8080/",
          "height": 312
        },
        "outputId": "37ce4774-72b2-4265-b315-594990732685"
      },
      "source": [
        "#Check for Overfitting\n",
        "\n",
        "plt.figure()\n",
        "plt.plot(history.history['loss'], 'blue')\n",
        "plt.plot(history.history['val_loss'], 'red')\n",
        "plt.legend(['Training loss', 'Validation Loss'])\n",
        "plt.xlabel('Epochs')\n",
        "plt.ylabel('Loss')\n",
        "plt.title('Loss Curves - before regularisation')"
      ],
      "execution_count": 23,
      "outputs": [
        {
          "output_type": "execute_result",
          "data": {
            "text/plain": [
              "Text(0.5, 1.0, 'Loss Curves - before regularisation')"
            ]
          },
          "metadata": {
            "tags": []
          },
          "execution_count": 23
        },
        {
          "output_type": "display_data",
          "data": {
            "image/png": "[encoded data removed]",
            "text/plain": [
              "<Figure size 432x288 with 1 Axes>"
            ]
          },
          "metadata": {
            "tags": [],
            "needs_background": "light"
          }
        }
      ]
    },
    {
      "cell_type": "code",
      "metadata": {
        "id": "R8dPXFAado3i",
        "colab_type": "code",
        "colab": {
          "base_uri": "https://localhost:8080/",
          "height": 748
        },
        "outputId": "76999838-0c8c-4d20-bf9c-b4efc29191c2"
      },
      "source": [
        "\n",
        "from tensorflow.keras.layers import Dropout\n",
        "reg_model = Sequential()\n",
        "reg_model.add(Dense(256, activation='relu', input_shape=(new_dimension,)))\n",
        "reg_model.add(Dropout(0.4))\n",
        "reg_model.add(Dense(128, activation='relu'))\n",
        "reg_model.add(Dropout(0.4))\n",
        "reg_model.add(Dense(no_labels, activation='softmax'))\n",
        "\n",
        "reg_model.compile(optimizer='adam', loss=tf.keras.losses.categorical_crossentropy, \n",
        "              metrics=['accuracy'])\n",
        "\n",
        "reg_history = reg_model.fit(x_train, y_train, validation_data=(x_val, y_val), \n",
        "                            epochs=20, batch_size=1000)\n",
        "test_loss, test_accuracy = reg_model.evaluate(test_images, y_test)\n",
        "print('Test loss: {}'.format(test_loss))\n",
        "print('Test accuracy: {}'.format(test_accuracy))"
      ],
      "execution_count": 24,
      "outputs": [
        {
          "output_type": "stream",
          "text": [
            "Train on 50000 samples, validate on 10000 samples\n",
            "Epoch 1/20\n",
            "50000/50000 [==============================] - 2s 33us/sample - loss: 0.9659 - acc: 0.6929 - val_loss: 0.2906 - val_acc: 0.9181\n",
            "Epoch 2/20\n",
            "50000/50000 [==============================] - 2s 32us/sample - loss: 0.3755 - acc: 0.8891 - val_loss: 0.2002 - val_acc: 0.9410\n",
            "Epoch 3/20\n",
            "50000/50000 [==============================] - 2s 33us/sample - loss: 0.2788 - acc: 0.9190 - val_loss: 0.1616 - val_acc: 0.9549\n",
            "Epoch 4/20\n",
            "50000/50000 [==============================] - 2s 33us/sample - loss: 0.2302 - acc: 0.9342 - val_loss: 0.1371 - val_acc: 0.9597\n",
            "Epoch 5/20\n",
            "50000/50000 [==============================] - 2s 32us/sample - loss: 0.2005 - acc: 0.9404 - val_loss: 0.1208 - val_acc: 0.9658\n",
            "Epoch 6/20\n",
            "50000/50000 [==============================] - 2s 33us/sample - loss: 0.1759 - acc: 0.9487 - val_loss: 0.1123 - val_acc: 0.9680\n",
            "Epoch 7/20\n",
            "50000/50000 [==============================] - 2s 33us/sample - loss: 0.1561 - acc: 0.9545 - val_loss: 0.1034 - val_acc: 0.9713\n",
            "Epoch 8/20\n",
            "50000/50000 [==============================] - 2s 33us/sample - loss: 0.1436 - acc: 0.9583 - val_loss: 0.0970 - val_acc: 0.9719\n",
            "Epoch 9/20\n",
            "50000/50000 [==============================] - 2s 33us/sample - loss: 0.1319 - acc: 0.9601 - val_loss: 0.0919 - val_acc: 0.9724\n",
            "Epoch 10/20\n",
            "50000/50000 [==============================] - 2s 33us/sample - loss: 0.1194 - acc: 0.9654 - val_loss: 0.0892 - val_acc: 0.9742\n",
            "Epoch 11/20\n",
            "50000/50000 [==============================] - 2s 33us/sample - loss: 0.1137 - acc: 0.9657 - val_loss: 0.0845 - val_acc: 0.9746\n",
            "Epoch 12/20\n",
            "50000/50000 [==============================] - 2s 33us/sample - loss: 0.1059 - acc: 0.9682 - val_loss: 0.0812 - val_acc: 0.9759\n",
            "Epoch 13/20\n",
            "50000/50000 [==============================] - 2s 33us/sample - loss: 0.0970 - acc: 0.9703 - val_loss: 0.0800 - val_acc: 0.9776\n",
            "Epoch 14/20\n",
            "50000/50000 [==============================] - 2s 33us/sample - loss: 0.0921 - acc: 0.9722 - val_loss: 0.0774 - val_acc: 0.9781\n",
            "Epoch 15/20\n",
            "50000/50000 [==============================] - 2s 33us/sample - loss: 0.0863 - acc: 0.9730 - val_loss: 0.0763 - val_acc: 0.9784\n",
            "Epoch 16/20\n",
            "50000/50000 [==============================] - 2s 33us/sample - loss: 0.0816 - acc: 0.9752 - val_loss: 0.0743 - val_acc: 0.9776\n",
            "Epoch 17/20\n",
            "50000/50000 [==============================] - 2s 33us/sample - loss: 0.0779 - acc: 0.9757 - val_loss: 0.0731 - val_acc: 0.9777\n",
            "Epoch 18/20\n",
            "50000/50000 [==============================] - 2s 33us/sample - loss: 0.0746 - acc: 0.9768 - val_loss: 0.0744 - val_acc: 0.9778\n",
            "Epoch 19/20\n",
            "50000/50000 [==============================] - 2s 33us/sample - loss: 0.0711 - acc: 0.9782 - val_loss: 0.0731 - val_acc: 0.9789\n",
            "Epoch 20/20\n",
            "50000/50000 [==============================] - 2s 33us/sample - loss: 0.0683 - acc: 0.9790 - val_loss: 0.0699 - val_acc: 0.9797\n",
            "Test loss: 0.06682828695613426\n",
            "Test accuracy: 0.9804999828338623\n"
          ],
          "name": "stdout"
        }
      ]
    },
    {
      "cell_type": "code",
      "metadata": {
        "id": "7nUCCFKEdsry",
        "colab_type": "code",
        "colab": {
          "base_uri": "https://localhost:8080/",
          "height": 51
        },
        "outputId": "0c6c51b0-a987-460c-fd75-7de8efc84218"
      },
      "source": [
        "\n",
        "test_loss, test_accuracy = reg_model.evaluate(test_images, y_test)\n",
        "print('Test loss: {}'.format(test_loss))\n",
        "print('Test accuracy: {}'.format(test_accuracy))"
      ],
      "execution_count": 25,
      "outputs": [
        {
          "output_type": "stream",
          "text": [
            "Test loss: 0.06682828695613426\n",
            "Test accuracy: 0.9804999828338623\n"
          ],
          "name": "stdout"
        }
      ]
    },
    {
      "cell_type": "code",
      "metadata": {
        "id": "OJv1Om3td2Gn",
        "colab_type": "code",
        "colab": {
          "base_uri": "https://localhost:8080/",
          "height": 312
        },
        "outputId": "fd8c2a0b-ea89-4a76-cd9a-5c028801557b"
      },
      "source": [
        "plt.figure()\n",
        "plt.plot(reg_history.history['loss'], 'blue')\n",
        "plt.plot(reg_history.history['val_loss'], 'red')\n",
        "plt.legend(['Training loss', 'Validation Loss'])\n",
        "plt.xlabel('Epochs')\n",
        "plt.ylabel('Loss')\n",
        "plt.title('Loss Curves - after regularisation')"
      ],
      "execution_count": 26,
      "outputs": [
        {
          "output_type": "execute_result",
          "data": {
            "text/plain": [
              "Text(0.5, 1.0, 'Loss Curves - after regularisation')"
            ]
          },
          "metadata": {
            "tags": []
          },
          "execution_count": 26
        },
        {
          "output_type": "display_data",
          "data": {
            "image/png": "[encoded data removed]",
            "text/plain": [
              "<Figure size 432x288 with 1 Axes>"
            ]
          },
          "metadata": {
            "tags": [],
            "needs_background": "light"
          }
        }
      ]
    },
    {
      "cell_type": "code",
      "metadata": {
        "id": "IemmvG9gd8dk",
        "colab_type": "code",
        "colab": {}
      },
      "source": [
        ""
      ],
      "execution_count": null,
      "outputs": []
    }
  ]
}